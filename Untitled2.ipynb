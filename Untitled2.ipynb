{
  "nbformat": 4,
  "nbformat_minor": 0,
  "metadata": {
    "colab": {
      "provenance": [],
      "toc_visible": true,
      "mount_file_id": "1EPGNMM-1u703Jjs2CI8RcmZzu9Rzijyk",
      "authorship_tag": "ABX9TyPlsfktaxbDGAaU+v4v8yBm",
      "include_colab_link": true
    },
    "kernelspec": {
      "name": "python3",
      "display_name": "Python 3"
    },
    "language_info": {
      "name": "python"
    }
  },
  "cells": [
    {
      "cell_type": "markdown",
      "metadata": {
        "id": "view-in-github",
        "colab_type": "text"
      },
      "source": [
        "<a href=\"https://colab.research.google.com/github/Samikshajain001/e-commerce/blob/main/Untitled2.ipynb\" target=\"_parent\"><img src=\"https://colab.research.google.com/assets/colab-badge.svg\" alt=\"Open In Colab\"/></a>"
      ]
    },
    {
      "cell_type": "code",
      "execution_count": 1,
      "metadata": {
        "colab": {
          "base_uri": "https://localhost:8080/"
        },
        "id": "Ftti4qkEYMcR",
        "outputId": "113f0947-dd91-4d9a-fce8-4c016b3e7a7b"
      },
      "outputs": [
        {
          "output_type": "stream",
          "name": "stdout",
          "text": [
            "/content\n"
          ]
        }
      ],
      "source": [
        "import pandas as pd\n",
        "import os\n",
        "print(os.getcwd())\n"
      ]
    },
    {
      "cell_type": "code",
      "source": [
        "os.chdir(\"/content/drive/MyDrive/day1 python\")"
      ],
      "metadata": {
        "id": "n-otXgycY9Z5"
      },
      "execution_count": 2,
      "outputs": []
    },
    {
      "cell_type": "code",
      "source": [
        "file_path = \"train (2).csv\"\n",
        "df = pd.read_csv(file_path)\n",
        "print(df)"
      ],
      "metadata": {
        "colab": {
          "base_uri": "https://localhost:8080/"
        },
        "id": "yBOm8hXvZi6j",
        "outputId": "8ad104aa-a7e2-4d21-834c-b654b2bea649"
      },
      "execution_count": 3,
      "outputs": [
        {
          "output_type": "stream",
          "name": "stdout",
          "text": [
            "      Unnamed: 0  MSSubClass  LotFrontage   LotArea Utilities  OverallQual  \\\n",
            "0              0        60.0    -0.207036 -0.229809    AllPub            7   \n",
            "1              1        20.0     0.459289 -0.079086    AllPub            6   \n",
            "2              2        60.0    -0.073771  0.137170    AllPub            7   \n",
            "3              3        70.0    -0.429144 -0.085639    AllPub            7   \n",
            "4              4        60.0     0.636976  0.531673    AllPub            8   \n",
            "...          ...         ...          ...       ...       ...          ...   \n",
            "1224        1452       180.0    -1.539686 -0.855641    AllPub            5   \n",
            "1225        1453        20.0     0.903506  0.919230    AllPub            5   \n",
            "1226        1454        20.0    -0.340301 -0.354320    AllPub            7   \n",
            "1227        1455        60.0    -0.340301 -0.299667    AllPub            6   \n",
            "1228        1457        70.0    -0.162614 -0.152219    AllPub            7   \n",
            "\n",
            "      OverallCond  MasVnrArea  BsmtFinSF1  BsmtFinSF2  ...  SaleType_ConLI  \\\n",
            "0             5.0       196.0       706.0         0.0  ...           False   \n",
            "1             8.0         0.0       978.0         0.0  ...           False   \n",
            "2             5.0       162.0       486.0         0.0  ...           False   \n",
            "3             5.0         0.0       216.0         0.0  ...           False   \n",
            "4             5.0       350.0       655.0         0.0  ...           False   \n",
            "...           ...         ...         ...         ...  ...             ...   \n",
            "1224          5.0        80.0       547.0         0.0  ...           False   \n",
            "1225          5.0         0.0         0.0         0.0  ...           False   \n",
            "1226          5.0         0.0       410.0         0.0  ...           False   \n",
            "1227          5.0         0.0         0.0         0.0  ...           False   \n",
            "1228          9.0         0.0       275.0         0.0  ...           False   \n",
            "\n",
            "      SaleType_ConLw  SaleType_New  SaleType_Oth  SaleType_WD  \\\n",
            "0              False         False         False         True   \n",
            "1              False         False         False         True   \n",
            "2              False         False         False         True   \n",
            "3              False         False         False         True   \n",
            "4              False         False         False         True   \n",
            "...              ...           ...           ...          ...   \n",
            "1224           False         False         False         True   \n",
            "1225           False         False         False         True   \n",
            "1226           False         False         False         True   \n",
            "1227           False         False         False         True   \n",
            "1228           False         False         False         True   \n",
            "\n",
            "      SaleCondition_AdjLand  SaleCondition_Alloca  SaleCondition_Family  \\\n",
            "0                     False                 False                 False   \n",
            "1                     False                 False                 False   \n",
            "2                     False                 False                 False   \n",
            "3                     False                 False                 False   \n",
            "4                     False                 False                 False   \n",
            "...                     ...                   ...                   ...   \n",
            "1224                  False                 False                 False   \n",
            "1225                  False                 False                 False   \n",
            "1226                  False                 False                 False   \n",
            "1227                  False                 False                 False   \n",
            "1228                  False                 False                 False   \n",
            "\n",
            "      SaleCondition_Normal  SaleCondition_Partial  \n",
            "0                     True                  False  \n",
            "1                     True                  False  \n",
            "2                     True                  False  \n",
            "3                    False                  False  \n",
            "4                     True                  False  \n",
            "...                    ...                    ...  \n",
            "1224                  True                  False  \n",
            "1225                 False                  False  \n",
            "1226                  True                  False  \n",
            "1227                  True                  False  \n",
            "1228                  True                  False  \n",
            "\n",
            "[1229 rows x 270 columns]\n"
          ]
        }
      ]
    },
    {
      "cell_type": "code",
      "source": [
        "print(\"first few rows of dataset:\")\n",
        "print(df.head(10))\n",
        "print(df.tail(10))"
      ],
      "metadata": {
        "colab": {
          "base_uri": "https://localhost:8080/"
        },
        "id": "hZBvchtqaTYn",
        "outputId": "47c1e3cb-500e-4586-d350-45b49e773b87"
      },
      "execution_count": 4,
      "outputs": [
        {
          "output_type": "stream",
          "name": "stdout",
          "text": [
            "first few rows of dataset:\n",
            "   Unnamed: 0  MSSubClass  LotFrontage   LotArea Utilities  OverallQual  \\\n",
            "0           0        60.0    -0.207036 -0.229809    AllPub            7   \n",
            "1           1        20.0     0.459289 -0.079086    AllPub            6   \n",
            "2           2        60.0    -0.073771  0.137170    AllPub            7   \n",
            "3           3        70.0    -0.429144 -0.085639    AllPub            7   \n",
            "4           4        60.0     0.636976  0.531673    AllPub            8   \n",
            "5           5        50.0     0.681397  0.512669    AllPub            5   \n",
            "6           6        20.0     0.237181 -0.015651    AllPub            8   \n",
            "7          10        20.0     0.015072  0.130617    AllPub            5   \n",
            "8          11        60.0     0.681397  0.225507    AllPub            9   \n",
            "9          12        20.0    -0.029349  0.362338    AllPub            5   \n",
            "\n",
            "   OverallCond  MasVnrArea  BsmtFinSF1  BsmtFinSF2  ...  SaleType_ConLI  \\\n",
            "0          5.0       196.0       706.0         0.0  ...           False   \n",
            "1          8.0         0.0       978.0         0.0  ...           False   \n",
            "2          5.0       162.0       486.0         0.0  ...           False   \n",
            "3          5.0         0.0       216.0         0.0  ...           False   \n",
            "4          5.0       350.0       655.0         0.0  ...           False   \n",
            "5          5.0         0.0       732.0         0.0  ...           False   \n",
            "6          5.0       186.0      1369.0         0.0  ...           False   \n",
            "7          5.0         0.0       906.0         0.0  ...           False   \n",
            "8          5.0       286.0       998.0         0.0  ...           False   \n",
            "9          6.0         0.0       737.0         0.0  ...           False   \n",
            "\n",
            "   SaleType_ConLw  SaleType_New  SaleType_Oth  SaleType_WD  \\\n",
            "0           False         False         False         True   \n",
            "1           False         False         False         True   \n",
            "2           False         False         False         True   \n",
            "3           False         False         False         True   \n",
            "4           False         False         False         True   \n",
            "5           False         False         False         True   \n",
            "6           False         False         False         True   \n",
            "7           False         False         False         True   \n",
            "8           False          True         False        False   \n",
            "9           False         False         False         True   \n",
            "\n",
            "   SaleCondition_AdjLand  SaleCondition_Alloca  SaleCondition_Family  \\\n",
            "0                  False                 False                 False   \n",
            "1                  False                 False                 False   \n",
            "2                  False                 False                 False   \n",
            "3                  False                 False                 False   \n",
            "4                  False                 False                 False   \n",
            "5                  False                 False                 False   \n",
            "6                  False                 False                 False   \n",
            "7                  False                 False                 False   \n",
            "8                  False                 False                 False   \n",
            "9                  False                 False                 False   \n",
            "\n",
            "   SaleCondition_Normal  SaleCondition_Partial  \n",
            "0                  True                  False  \n",
            "1                  True                  False  \n",
            "2                  True                  False  \n",
            "3                 False                  False  \n",
            "4                  True                  False  \n",
            "5                  True                  False  \n",
            "6                  True                  False  \n",
            "7                  True                  False  \n",
            "8                 False                   True  \n",
            "9                  True                  False  \n",
            "\n",
            "[10 rows x 270 columns]\n",
            "      Unnamed: 0  MSSubClass  LotFrontage   LotArea Utilities  OverallQual  \\\n",
            "1219        1446        20.0    -0.029349  2.088977    AllPub            5   \n",
            "1220        1447        60.0     0.459289 -0.026660    AllPub            8   \n",
            "1221        1448        50.0     0.015072  0.204930    AllPub            4   \n",
            "1222        1449       180.0    -2.161589 -1.136380    AllPub            5   \n",
            "1223        1451        20.0     0.370446 -0.123385    AllPub            8   \n",
            "1224        1452       180.0    -1.539686 -0.855641    AllPub            5   \n",
            "1225        1453        20.0     0.903506  0.919230    AllPub            5   \n",
            "1226        1454        20.0    -0.340301 -0.354320    AllPub            7   \n",
            "1227        1455        60.0    -0.340301 -0.299667    AllPub            6   \n",
            "1228        1457        70.0    -0.162614 -0.152219    AllPub            7   \n",
            "\n",
            "      OverallCond  MasVnrArea  BsmtFinSF1  BsmtFinSF2  ...  SaleType_ConLI  \\\n",
            "1219          7.0       189.0       593.0         0.0  ...           False   \n",
            "1220          5.0       438.0      1079.0         0.0  ...           False   \n",
            "1221          7.0         0.0         0.0         0.0  ...           False   \n",
            "1222          7.0         0.0       553.0         0.0  ...           False   \n",
            "1223          5.0       194.0         0.0         0.0  ...           False   \n",
            "1224          5.0        80.0       547.0         0.0  ...           False   \n",
            "1225          5.0         0.0         0.0         0.0  ...           False   \n",
            "1226          5.0         0.0       410.0         0.0  ...           False   \n",
            "1227          5.0         0.0         0.0         0.0  ...           False   \n",
            "1228          9.0         0.0       275.0         0.0  ...           False   \n",
            "\n",
            "      SaleType_ConLw  SaleType_New  SaleType_Oth  SaleType_WD  \\\n",
            "1219           False         False         False         True   \n",
            "1220           False         False         False         True   \n",
            "1221           False         False         False         True   \n",
            "1222           False         False         False         True   \n",
            "1223           False          True         False        False   \n",
            "1224           False         False         False         True   \n",
            "1225           False         False         False         True   \n",
            "1226           False         False         False         True   \n",
            "1227           False         False         False         True   \n",
            "1228           False         False         False         True   \n",
            "\n",
            "      SaleCondition_AdjLand  SaleCondition_Alloca  SaleCondition_Family  \\\n",
            "1219                  False                 False                 False   \n",
            "1220                  False                 False                 False   \n",
            "1221                  False                 False                 False   \n",
            "1222                  False                 False                 False   \n",
            "1223                  False                 False                 False   \n",
            "1224                  False                 False                 False   \n",
            "1225                  False                 False                 False   \n",
            "1226                  False                 False                 False   \n",
            "1227                  False                 False                 False   \n",
            "1228                  False                 False                 False   \n",
            "\n",
            "      SaleCondition_Normal  SaleCondition_Partial  \n",
            "1219                  True                  False  \n",
            "1220                  True                  False  \n",
            "1221                  True                  False  \n",
            "1222                 False                  False  \n",
            "1223                 False                   True  \n",
            "1224                  True                  False  \n",
            "1225                 False                  False  \n",
            "1226                  True                  False  \n",
            "1227                  True                  False  \n",
            "1228                  True                  False  \n",
            "\n",
            "[10 rows x 270 columns]\n"
          ]
        }
      ]
    },
    {
      "cell_type": "code",
      "source": [
        "print(\"dataset info(columns,data types,missing values)\")\n",
        "print(df.info())"
      ],
      "metadata": {
        "colab": {
          "base_uri": "https://localhost:8080/"
        },
        "id": "9XQw73l9a8KV",
        "outputId": "01c254d7-075a-4ee5-e3b5-b866a4086621"
      },
      "execution_count": 5,
      "outputs": [
        {
          "output_type": "stream",
          "name": "stdout",
          "text": [
            "dataset info(columns,data types,missing values)\n",
            "<class 'pandas.core.frame.DataFrame'>\n",
            "RangeIndex: 1229 entries, 0 to 1228\n",
            "Columns: 270 entries, Unnamed: 0 to SaleCondition_Partial\n",
            "dtypes: bool(238), float64(23), int64(8), object(1)\n",
            "memory usage: 593.0+ KB\n",
            "None\n"
          ]
        }
      ]
    },
    {
      "cell_type": "code",
      "source": [
        "print(\"statistical summary oof numbercial columns:\")\n",
        "print(df.describe())"
      ],
      "metadata": {
        "colab": {
          "base_uri": "https://localhost:8080/"
        },
        "id": "Oj2DAbNHbfZf",
        "outputId": "cc4da0b5-3fe5-43ab-95e1-2a378c4379e5"
      },
      "execution_count": 6,
      "outputs": [
        {
          "output_type": "stream",
          "name": "stdout",
          "text": [
            "statistical summary oof numbercial columns:\n",
            "        Unnamed: 0   MSSubClass   LotFrontage       LotArea  OverallQual  \\\n",
            "count  1229.000000  1229.000000  1.229000e+03  1.229000e+03  1229.000000   \n",
            "mean    729.165175    54.947111  1.199655e-16 -2.890735e-17     6.215622   \n",
            "std     421.251543    40.090203  1.000407e+00  1.000407e+00     1.406667   \n",
            "min       0.000000    20.000000 -2.161589e+00 -1.166918e+00     1.000000   \n",
            "25%     364.000000    20.000000 -4.291444e-01 -3.543203e-01     5.000000   \n",
            "50%     731.000000    50.000000 -2.934938e-02 -1.046431e-01     6.000000   \n",
            "75%    1100.000000    60.000000  3.704456e-01  1.881541e-01     7.000000   \n",
            "max    1457.000000   190.000000  1.080954e+01  1.950189e+01    10.000000   \n",
            "\n",
            "       OverallCond   MasVnrArea   BsmtFinSF1  BsmtFinSF2    BsmtUnfSF  ...  \\\n",
            "count  1229.000000  1229.000000  1229.000000      1229.0  1229.000000  ...   \n",
            "mean      5.563059   107.956062   451.524003         0.0   605.007323  ...   \n",
            "std       1.101658   185.862716   470.735550         0.0   434.498707  ...   \n",
            "min       1.000000     0.000000     0.000000         0.0     0.000000  ...   \n",
            "25%       5.000000     0.000000     0.000000         0.0   279.000000  ...   \n",
            "50%       5.000000     0.000000   400.000000         0.0   536.000000  ...   \n",
            "75%       6.000000   170.000000   735.000000         0.0   840.000000  ...   \n",
            "max       9.000000  1600.000000  5644.000000         0.0  2336.000000  ...   \n",
            "\n",
            "            MiscVal       MoSold      SalePrice    AgeAtSale  TotalBathrooms  \\\n",
            "count   1229.000000  1229.000000    1229.000000  1229.000000     1229.000000   \n",
            "mean      35.609439     6.332791  185195.555736    34.480065        2.193653   \n",
            "std      468.168693     2.707044   82192.182927    30.962844        0.800250   \n",
            "min        0.000000     1.000000   34900.000000     0.000000        1.000000   \n",
            "25%        0.000000     5.000000  131500.000000     5.000000        1.500000   \n",
            "50%        0.000000     6.000000  168000.000000    31.000000        2.000000   \n",
            "75%        0.000000     8.000000  221000.000000    54.000000        2.500000   \n",
            "max    15500.000000    12.000000  755000.000000   136.000000        6.000000   \n",
            "\n",
            "         HasGarage  HasBasement  HasFireplace  TotalPorchSF      HasPool  \n",
            "count  1229.000000  1229.000000   1229.000000   1229.000000  1229.000000  \n",
            "mean      0.949552     0.982913      0.544345     83.270952     0.003255  \n",
            "std       0.218956     0.129649      0.498232     98.304879     0.056980  \n",
            "min       0.000000     0.000000      0.000000      0.000000     0.000000  \n",
            "25%       1.000000     1.000000      0.000000      0.000000     0.000000  \n",
            "50%       1.000000     1.000000      1.000000     49.000000     0.000000  \n",
            "75%       1.000000     1.000000      1.000000    126.000000     0.000000  \n",
            "max       1.000000     1.000000      1.000000   1027.000000     1.000000  \n",
            "\n",
            "[8 rows x 31 columns]\n"
          ]
        }
      ]
    },
    {
      "cell_type": "code",
      "source": [
        "print(\"SalePrice column:\")\n",
        "print(df['SalePrice'].head())"
      ],
      "metadata": {
        "colab": {
          "base_uri": "https://localhost:8080/"
        },
        "id": "BBnntbdJb15_",
        "outputId": "89f28c51-bc03-4359-c307-4a5c39f7adba"
      },
      "execution_count": 7,
      "outputs": [
        {
          "output_type": "stream",
          "name": "stdout",
          "text": [
            "SalePrice column:\n",
            "0    208500.0\n",
            "1    181500.0\n",
            "2    223500.0\n",
            "3    140000.0\n",
            "4    250000.0\n",
            "Name: SalePrice, dtype: float64\n"
          ]
        }
      ]
    },
    {
      "cell_type": "code",
      "source": [
        "df['SalePrice'].head()"
      ],
      "metadata": {
        "colab": {
          "base_uri": "https://localhost:8080/",
          "height": 241
        },
        "id": "We5Z5CG2csB8",
        "outputId": "a8e9aeb1-78ed-4b73-ff24-ca4d22945867"
      },
      "execution_count": 8,
      "outputs": [
        {
          "output_type": "execute_result",
          "data": {
            "text/plain": [
              "0    208500.0\n",
              "1    181500.0\n",
              "2    223500.0\n",
              "3    140000.0\n",
              "4    250000.0\n",
              "Name: SalePrice, dtype: float64"
            ],
            "text/html": [
              "<div>\n",
              "<style scoped>\n",
              "    .dataframe tbody tr th:only-of-type {\n",
              "        vertical-align: middle;\n",
              "    }\n",
              "\n",
              "    .dataframe tbody tr th {\n",
              "        vertical-align: top;\n",
              "    }\n",
              "\n",
              "    .dataframe thead th {\n",
              "        text-align: right;\n",
              "    }\n",
              "</style>\n",
              "<table border=\"1\" class=\"dataframe\">\n",
              "  <thead>\n",
              "    <tr style=\"text-align: right;\">\n",
              "      <th></th>\n",
              "      <th>SalePrice</th>\n",
              "    </tr>\n",
              "  </thead>\n",
              "  <tbody>\n",
              "    <tr>\n",
              "      <th>0</th>\n",
              "      <td>208500.0</td>\n",
              "    </tr>\n",
              "    <tr>\n",
              "      <th>1</th>\n",
              "      <td>181500.0</td>\n",
              "    </tr>\n",
              "    <tr>\n",
              "      <th>2</th>\n",
              "      <td>223500.0</td>\n",
              "    </tr>\n",
              "    <tr>\n",
              "      <th>3</th>\n",
              "      <td>140000.0</td>\n",
              "    </tr>\n",
              "    <tr>\n",
              "      <th>4</th>\n",
              "      <td>250000.0</td>\n",
              "    </tr>\n",
              "  </tbody>\n",
              "</table>\n",
              "</div><br><label><b>dtype:</b> float64</label>"
            ]
          },
          "metadata": {},
          "execution_count": 8
        }
      ]
    },
    {
      "cell_type": "code",
      "source": [
        "print(\"\\nrows 10-20:\")\n",
        "print(df[10:20])"
      ],
      "metadata": {
        "colab": {
          "base_uri": "https://localhost:8080/"
        },
        "id": "LjAqoWtRc-a9",
        "outputId": "42a10757-123d-4951-ec52-7bde12de87e1"
      },
      "execution_count": 9,
      "outputs": [
        {
          "output_type": "stream",
          "name": "stdout",
          "text": [
            "\n",
            "rows 10-20:\n",
            "    Unnamed: 0  MSSubClass  LotFrontage   LotArea Utilities  OverallQual  \\\n",
            "10          13        20.0     0.947927  0.058794    AllPub            7   \n",
            "11          14        20.0    -0.029349  0.093919    AllPub            6   \n",
            "12          15        45.0    -0.828939 -0.535189    AllPub            7   \n",
            "13          16        20.0    -0.029349  0.135991    AllPub            6   \n",
            "14          18        20.0    -0.162614  0.457622    AllPub            5   \n",
            "15          19        20.0     0.015072 -0.346456    AllPub            5   \n",
            "16          20        60.0     1.392144  0.525775    AllPub            8   \n",
            "17          21        45.0    -0.562409 -0.361005    AllPub            7   \n",
            "18          22        20.0     0.237181 -0.060475    AllPub            8   \n",
            "19          23       120.0    -1.139891 -0.783686    AllPub            5   \n",
            "\n",
            "    OverallCond  MasVnrArea  BsmtFinSF1  BsmtFinSF2  ...  SaleType_ConLI  \\\n",
            "10          5.0       306.0         0.0         0.0  ...           False   \n",
            "11          5.0       212.0       733.0         0.0  ...           False   \n",
            "12          8.0         0.0         0.0         0.0  ...           False   \n",
            "13          7.0       180.0       578.0         0.0  ...           False   \n",
            "14          5.0         0.0       646.0         0.0  ...           False   \n",
            "15          6.0         0.0       504.0         0.0  ...           False   \n",
            "16          5.0       380.0         0.0         0.0  ...           False   \n",
            "17          7.0         0.0         0.0         0.0  ...           False   \n",
            "18          5.0       281.0         0.0         0.0  ...           False   \n",
            "19          7.0         0.0       840.0         0.0  ...           False   \n",
            "\n",
            "    SaleType_ConLw  SaleType_New  SaleType_Oth  SaleType_WD  \\\n",
            "10           False          True         False        False   \n",
            "11           False         False         False         True   \n",
            "12           False         False         False         True   \n",
            "13           False         False         False         True   \n",
            "14           False         False         False         True   \n",
            "15           False         False         False        False   \n",
            "16           False          True         False        False   \n",
            "17           False         False         False         True   \n",
            "18           False         False         False         True   \n",
            "19           False         False         False         True   \n",
            "\n",
            "    SaleCondition_AdjLand  SaleCondition_Alloca  SaleCondition_Family  \\\n",
            "10                  False                 False                 False   \n",
            "11                  False                 False                 False   \n",
            "12                  False                 False                 False   \n",
            "13                  False                 False                 False   \n",
            "14                  False                 False                 False   \n",
            "15                  False                 False                 False   \n",
            "16                  False                 False                 False   \n",
            "17                  False                 False                 False   \n",
            "18                  False                 False                 False   \n",
            "19                  False                 False                 False   \n",
            "\n",
            "    SaleCondition_Normal  SaleCondition_Partial  \n",
            "10                 False                   True  \n",
            "11                  True                  False  \n",
            "12                  True                  False  \n",
            "13                  True                  False  \n",
            "14                  True                  False  \n",
            "15                 False                  False  \n",
            "16                 False                   True  \n",
            "17                  True                  False  \n",
            "18                  True                  False  \n",
            "19                  True                  False  \n",
            "\n",
            "[10 rows x 270 columns]\n"
          ]
        }
      ]
    },
    {
      "cell_type": "code",
      "source": [
        "#export modern houses to new csv\n",
        "modern_houses=df[df['YearBuilt']>2000]\n",
        "#modern_houses to.csv('modern_houses.csv',Indexfalse)\n",
        "print(modern_houses)"
      ],
      "metadata": {
        "colab": {
          "base_uri": "https://localhost:8080/",
          "height": 616
        },
        "id": "IVRzqFgXdQMK",
        "outputId": "a001b5f9-7ffa-473b-a461-1c0c366e555d"
      },
      "execution_count": 10,
      "outputs": [
        {
          "output_type": "error",
          "ename": "KeyError",
          "evalue": "'YearBuilt'",
          "traceback": [
            "\u001b[0;31m---------------------------------------------------------------------------\u001b[0m",
            "\u001b[0;31mKeyError\u001b[0m                                  Traceback (most recent call last)",
            "\u001b[0;32m/usr/local/lib/python3.11/dist-packages/pandas/core/indexes/base.py\u001b[0m in \u001b[0;36mget_loc\u001b[0;34m(self, key)\u001b[0m\n\u001b[1;32m   3804\u001b[0m         \u001b[0;32mtry\u001b[0m\u001b[0;34m:\u001b[0m\u001b[0;34m\u001b[0m\u001b[0;34m\u001b[0m\u001b[0m\n\u001b[0;32m-> 3805\u001b[0;31m             \u001b[0;32mreturn\u001b[0m \u001b[0mself\u001b[0m\u001b[0;34m.\u001b[0m\u001b[0m_engine\u001b[0m\u001b[0;34m.\u001b[0m\u001b[0mget_loc\u001b[0m\u001b[0;34m(\u001b[0m\u001b[0mcasted_key\u001b[0m\u001b[0;34m)\u001b[0m\u001b[0;34m\u001b[0m\u001b[0;34m\u001b[0m\u001b[0m\n\u001b[0m\u001b[1;32m   3806\u001b[0m         \u001b[0;32mexcept\u001b[0m \u001b[0mKeyError\u001b[0m \u001b[0;32mas\u001b[0m \u001b[0merr\u001b[0m\u001b[0;34m:\u001b[0m\u001b[0;34m\u001b[0m\u001b[0;34m\u001b[0m\u001b[0m\n",
            "\u001b[0;32mindex.pyx\u001b[0m in \u001b[0;36mpandas._libs.index.IndexEngine.get_loc\u001b[0;34m()\u001b[0m\n",
            "\u001b[0;32mindex.pyx\u001b[0m in \u001b[0;36mpandas._libs.index.IndexEngine.get_loc\u001b[0;34m()\u001b[0m\n",
            "\u001b[0;32mpandas/_libs/hashtable_class_helper.pxi\u001b[0m in \u001b[0;36mpandas._libs.hashtable.PyObjectHashTable.get_item\u001b[0;34m()\u001b[0m\n",
            "\u001b[0;32mpandas/_libs/hashtable_class_helper.pxi\u001b[0m in \u001b[0;36mpandas._libs.hashtable.PyObjectHashTable.get_item\u001b[0;34m()\u001b[0m\n",
            "\u001b[0;31mKeyError\u001b[0m: 'YearBuilt'",
            "\nThe above exception was the direct cause of the following exception:\n",
            "\u001b[0;31mKeyError\u001b[0m                                  Traceback (most recent call last)",
            "\u001b[0;32m/tmp/ipython-input-3264743326.py\u001b[0m in \u001b[0;36m<cell line: 0>\u001b[0;34m()\u001b[0m\n\u001b[1;32m      1\u001b[0m \u001b[0;31m#export modern houses to new csv\u001b[0m\u001b[0;34m\u001b[0m\u001b[0;34m\u001b[0m\u001b[0m\n\u001b[0;32m----> 2\u001b[0;31m \u001b[0mmodern_houses\u001b[0m\u001b[0;34m=\u001b[0m\u001b[0mdf\u001b[0m\u001b[0;34m[\u001b[0m\u001b[0mdf\u001b[0m\u001b[0;34m[\u001b[0m\u001b[0;34m'YearBuilt'\u001b[0m\u001b[0;34m]\u001b[0m\u001b[0;34m>\u001b[0m\u001b[0;36m2000\u001b[0m\u001b[0;34m]\u001b[0m\u001b[0;34m\u001b[0m\u001b[0;34m\u001b[0m\u001b[0m\n\u001b[0m\u001b[1;32m      3\u001b[0m \u001b[0;31m#modern_houses to.csv('modern_houses.csv',Indexfalse)\u001b[0m\u001b[0;34m\u001b[0m\u001b[0;34m\u001b[0m\u001b[0m\n\u001b[1;32m      4\u001b[0m \u001b[0mprint\u001b[0m\u001b[0;34m(\u001b[0m\u001b[0mmodern_houses\u001b[0m\u001b[0;34m)\u001b[0m\u001b[0;34m\u001b[0m\u001b[0;34m\u001b[0m\u001b[0m\n",
            "\u001b[0;32m/usr/local/lib/python3.11/dist-packages/pandas/core/frame.py\u001b[0m in \u001b[0;36m__getitem__\u001b[0;34m(self, key)\u001b[0m\n\u001b[1;32m   4100\u001b[0m             \u001b[0;32mif\u001b[0m \u001b[0mself\u001b[0m\u001b[0;34m.\u001b[0m\u001b[0mcolumns\u001b[0m\u001b[0;34m.\u001b[0m\u001b[0mnlevels\u001b[0m \u001b[0;34m>\u001b[0m \u001b[0;36m1\u001b[0m\u001b[0;34m:\u001b[0m\u001b[0;34m\u001b[0m\u001b[0;34m\u001b[0m\u001b[0m\n\u001b[1;32m   4101\u001b[0m                 \u001b[0;32mreturn\u001b[0m \u001b[0mself\u001b[0m\u001b[0;34m.\u001b[0m\u001b[0m_getitem_multilevel\u001b[0m\u001b[0;34m(\u001b[0m\u001b[0mkey\u001b[0m\u001b[0;34m)\u001b[0m\u001b[0;34m\u001b[0m\u001b[0;34m\u001b[0m\u001b[0m\n\u001b[0;32m-> 4102\u001b[0;31m             \u001b[0mindexer\u001b[0m \u001b[0;34m=\u001b[0m \u001b[0mself\u001b[0m\u001b[0;34m.\u001b[0m\u001b[0mcolumns\u001b[0m\u001b[0;34m.\u001b[0m\u001b[0mget_loc\u001b[0m\u001b[0;34m(\u001b[0m\u001b[0mkey\u001b[0m\u001b[0;34m)\u001b[0m\u001b[0;34m\u001b[0m\u001b[0;34m\u001b[0m\u001b[0m\n\u001b[0m\u001b[1;32m   4103\u001b[0m             \u001b[0;32mif\u001b[0m \u001b[0mis_integer\u001b[0m\u001b[0;34m(\u001b[0m\u001b[0mindexer\u001b[0m\u001b[0;34m)\u001b[0m\u001b[0;34m:\u001b[0m\u001b[0;34m\u001b[0m\u001b[0;34m\u001b[0m\u001b[0m\n\u001b[1;32m   4104\u001b[0m                 \u001b[0mindexer\u001b[0m \u001b[0;34m=\u001b[0m \u001b[0;34m[\u001b[0m\u001b[0mindexer\u001b[0m\u001b[0;34m]\u001b[0m\u001b[0;34m\u001b[0m\u001b[0;34m\u001b[0m\u001b[0m\n",
            "\u001b[0;32m/usr/local/lib/python3.11/dist-packages/pandas/core/indexes/base.py\u001b[0m in \u001b[0;36mget_loc\u001b[0;34m(self, key)\u001b[0m\n\u001b[1;32m   3810\u001b[0m             ):\n\u001b[1;32m   3811\u001b[0m                 \u001b[0;32mraise\u001b[0m \u001b[0mInvalidIndexError\u001b[0m\u001b[0;34m(\u001b[0m\u001b[0mkey\u001b[0m\u001b[0;34m)\u001b[0m\u001b[0;34m\u001b[0m\u001b[0;34m\u001b[0m\u001b[0m\n\u001b[0;32m-> 3812\u001b[0;31m             \u001b[0;32mraise\u001b[0m \u001b[0mKeyError\u001b[0m\u001b[0;34m(\u001b[0m\u001b[0mkey\u001b[0m\u001b[0;34m)\u001b[0m \u001b[0;32mfrom\u001b[0m \u001b[0merr\u001b[0m\u001b[0;34m\u001b[0m\u001b[0;34m\u001b[0m\u001b[0m\n\u001b[0m\u001b[1;32m   3813\u001b[0m         \u001b[0;32mexcept\u001b[0m \u001b[0mTypeError\u001b[0m\u001b[0;34m:\u001b[0m\u001b[0;34m\u001b[0m\u001b[0;34m\u001b[0m\u001b[0m\n\u001b[1;32m   3814\u001b[0m             \u001b[0;31m# If we have a listlike key, _check_indexing_error will raise\u001b[0m\u001b[0;34m\u001b[0m\u001b[0;34m\u001b[0m\u001b[0m\n",
            "\u001b[0;31mKeyError\u001b[0m: 'YearBuilt'"
          ]
        }
      ]
    },
    {
      "cell_type": "code",
      "source": [
        "print(\"first few rows of dataset\")\n",
        "print(df.head(20))"
      ],
      "metadata": {
        "id": "mXA9gx9OfIP2"
      },
      "execution_count": null,
      "outputs": []
    },
    {
      "cell_type": "code",
      "source": [
        "print(\"\\nrows 50-60:\")\n",
        "print(df[50:60])"
      ],
      "metadata": {
        "id": "X__kjJrpfUrM"
      },
      "execution_count": null,
      "outputs": []
    },
    {
      "cell_type": "code",
      "source": [
        "#houseswith more than 3 bedrooms and built after 2000\n",
        "filtered = df[(df['BedroomAbvGr']>3) & (df['YearBuilt']>2000)]\n",
        "print(\"\\n filtered Houses\")\n",
        "print(filtered[['YearBuilt','BedroomAbvGr','SalePrice']].head())"
      ],
      "metadata": {
        "id": "02ZK4XCdh599"
      },
      "execution_count": null,
      "outputs": []
    },
    {
      "cell_type": "code",
      "source": [
        "gr_liv_area=df[df['SalePrice']>2000]\n",
        "print(\"\\nHouses with GrLivArea > 2000:\")\n",
        "print(gr_liv_area)"
      ],
      "metadata": {
        "id": "ykqP1Cxkl-Il"
      },
      "execution_count": null,
      "outputs": []
    },
    {
      "cell_type": "code",
      "source": [
        "high_price=df[df['SalePrice']>300000]\n",
        "print(\"\\nHouses with SalePrice >300000:\")\n",
        "print(high_price)"
      ],
      "metadata": {
        "id": "B4xo_mm-ojCE"
      },
      "execution_count": null,
      "outputs": []
    },
    {
      "cell_type": "code",
      "source": [
        "gr_liv_area = df[df['SalePrice']>2000]\n",
        "print(\"\\Houses with GrLivArea > 2000:\")\n",
        "print(gr_liv_area)"
      ],
      "metadata": {
        "id": "FrKcENiXpnI0"
      },
      "execution_count": null,
      "outputs": []
    },
    {
      "cell_type": "code",
      "source": [
        "[] #define custom function\n",
        "def classify_size(area):\n",
        "  if area>2000:\n",
        "    return\"large\"\n",
        "  elif area>1000:\n",
        "      return\"medium\"\n",
        "  else:\n",
        "    return\"small\"\n"
      ],
      "metadata": {
        "id": "3Zja3XHFzS28"
      },
      "execution_count": null,
      "outputs": []
    },
    {
      "cell_type": "code",
      "source": [
        "#apply function\n",
        "df[\"HouseSize\"]=df['GrLivArea'].apply(classify_size)\n",
        "print(df[['GrLivArea','HouseSize']].head())\n"
      ],
      "metadata": {
        "id": "GzRecdk70uAu"
      },
      "execution_count": null,
      "outputs": []
    },
    {
      "cell_type": "code",
      "source": [
        "#define the classification function first\n",
        "def classify_price(price):\n",
        "  if price > 200000:\n",
        "    return \"expensive\"\n",
        "  else:\n",
        "    return \"affordaable\"\n",
        "\n",
        "\n"
      ],
      "metadata": {
        "id": "zGebn73s0sk8"
      },
      "execution_count": null,
      "outputs": []
    },
    {
      "cell_type": "code",
      "source": [
        "#apply the function to ceate a new column\n",
        "df[\"pricetegory\"]= df['SalePrice'].apply(classify_price)\n",
        "\n",
        "#print the selected columns\n",
        "print(df[['GrLivArea','HouseSize']].head())"
      ],
      "metadata": {
        "id": "pPA113BB7FmK"
      },
      "execution_count": null,
      "outputs": []
    },
    {
      "cell_type": "code",
      "source": [
        "def readcsv(filepath,filename):\n",
        "  import os\n",
        "  os.chdir(filepath)\n",
        "  file-pd.read_csv(filename)\n",
        "  return file\n"
      ],
      "metadata": {
        "id": "DBRNZHcy_-bQ"
      },
      "execution_count": null,
      "outputs": []
    },
    {
      "cell_type": "code",
      "source": [],
      "metadata": {
        "id": "zGQhSIi3WIj1"
      },
      "execution_count": null,
      "outputs": []
    },
    {
      "cell_type": "code",
      "source": [
        "import  pandas as pd\n",
        "filepath = \"/content/drive/MyDrive/day1 python/\"\n",
        "filename = \"train (2).csv\"\n",
        "\n",
        "df_test = pd.read_csv(filepath + filename)\n",
        "print(df_test)"
      ],
      "metadata": {
        "id": "gw1GileNSpm9"
      },
      "execution_count": null,
      "outputs": []
    },
    {
      "cell_type": "code",
      "source": [
        "\n",
        "df['MSZoning']=df['MSZoning'].replace({\n",
        "    'RL':'Residential Low Density',\n",
        "    'RM':'residential medium'\n",
        "    })"
      ],
      "metadata": {
        "id": "Kr78UZGaVAzV"
      },
      "execution_count": null,
      "outputs": []
    },
    {
      "cell_type": "code",
      "source": [
        "for i in range(0,5):\n",
        "  print(\"ID\",df.Id[i],\"price:\",df.SalePrice[i])"
      ],
      "metadata": {
        "id": "_5HHTCEVYxPx"
      },
      "execution_count": null,
      "outputs": []
    },
    {
      "cell_type": "code",
      "source": [
        "df['PricePerSqft']=df['SalePrice']/df['GrLivArea']\n",
        "print(\"new column 'priceperSqrt:\")\n",
        "print(df[['SalePrice','GrLivArea','PricePerSqft']].head())"
      ],
      "metadata": {
        "id": "02kg8nFsdi3I"
      },
      "execution_count": null,
      "outputs": []
    },
    {
      "cell_type": "code",
      "source": [
        "df1=df.drop(columns=['Id','Utilities'])\n",
        "print(\"removed column:Id,utilities\")\n"
      ],
      "metadata": {
        "id": "1f7qv8R_eS3f"
      },
      "execution_count": null,
      "outputs": []
    },
    {
      "cell_type": "code",
      "source": [
        "df1=df.drop(columns=['SalePrice','GrLivArea'])\n",
        "print(\"removed  columns:SalePrice,grlivarea\")\n",
        "print(df1.head())"
      ],
      "metadata": {
        "id": "Te-3z3xuf4mT"
      },
      "execution_count": null,
      "outputs": []
    },
    {
      "cell_type": "code",
      "source": [
        "df2 = df.copy()\n",
        "\n",
        "# Add a new column 'TotalRooms'\n",
        "df2['TotalRooms'] = df2['BedroomAbvGr'] + df2['TotRmsAbvGrd']\n",
        "\n",
        "# Drop the 'Alley' column if it exists\n",
        "df2 = df2.drop(columns=['Alley'], errors='ignore')  # 'errors=ignore' prevents crash if column not present\n",
        "\n",
        "# Rename the column properly\n",
        "df2.rename(columns={'GrLivArea': 'LivingArea'}, inplace=True)\n",
        "\n",
        "# Print selected columns\n",
        "print(df2[['TotalRooms', 'BedroomAbvGr', 'TotRmsAbvGrd', 'LivingArea']].head())"
      ],
      "metadata": {
        "id": "2iw8tLYwkRl6"
      },
      "execution_count": null,
      "outputs": []
    },
    {
      "cell_type": "code",
      "source": [
        "# Group by YearBuilt and calculate average price\n",
        "yearly_avg_price = df.groupby('YearBuilt')['SalePrice'].mean().reset_index()\n",
        "print(\"* Average SalePrice by Year Built:\")\n",
        "print(yearly_avg_price.tail())"
      ],
      "metadata": {
        "id": "DvuHwzmGkcZ4"
      },
      "execution_count": null,
      "outputs": []
    },
    {
      "cell_type": "code",
      "source": [
        "# Group by YearBuilt and LandContour, then calculate average price\n",
        "yearly_avg_price = df.groupby(['YearBuilt', 'LandContour'])['SalePrice'].mean().reset_index()\n",
        "\n",
        "print(\"* Average SalePrice by Year Built and Land Contour\")\n",
        "print(yearly_avg_price.tail())"
      ],
      "metadata": {
        "id": "zAf9nq5Vkg7p"
      },
      "execution_count": null,
      "outputs": []
    },
    {
      "cell_type": "code",
      "source": [
        "#Group by YearBuilt and calculate average price\n",
        "yearly_avg_price = df.groupby('YearBuilt')['SalePrice'].mean().reset_index()\n",
        "print(\"* Average SalePrice by Year Built:\")\n",
        "print(yearly_avg_price.tail())"
      ],
      "metadata": {
        "id": "Z3sRe4DPklt0"
      },
      "execution_count": null,
      "outputs": []
    },
    {
      "cell_type": "code",
      "source": [
        "#Group by YearBuilt and calculate average price\n",
        "yearly_avg_price = df.groupby('YearBuilt')['SalePrice'].mean().reset_index()\n",
        "print(\"* Average SalePrice by Year Built:\")\n",
        "print(yearly_avg_price.tail())"
      ],
      "metadata": {
        "id": "c1Tp-caWkr5z"
      },
      "execution_count": null,
      "outputs": []
    },
    {
      "cell_type": "code",
      "source": [
        "# Sort by SalePrice descending\n",
        "top_5_expensive = df.sort_values(by='SalePrice', ascending=False).head()\n",
        "\n",
        "print('\\n* Top 5 Most Expensive Houses:')\n",
        "print(top_5_expensive[['SalePrice', 'GrLivArea']])"
      ],
      "metadata": {
        "id": "k2aR8vojkzB8"
      },
      "execution_count": null,
      "outputs": []
    },
    {
      "cell_type": "code",
      "source": [
        "import pandas as pd\n",
        "import numpy as np\n",
        "\n",
        "from sklearn.model_selection import train_test_split\n",
        "from sklearn.preprocessing import StandardScaler, MinMaxScaler\n",
        "from sklearn.compose import ColumnTransformer\n",
        "from sklearn.pipeline import Pipeline\n",
        "\n",
        "def readcsv(filepath, filename):\n",
        "    import os\n",
        "    os.chdir(filepath)\n",
        "    file = pd.read_csv(filename)\n",
        "    return file\n",
        "\n",
        "# Example usage\n",
        "filepath = \"/content/drive/MyDrive/day1 python\"  # adjust as needed\n",
        "filename = \"train (2).csv\"\n",
        "\n",
        "df = readcsv(filepath, filename)\n",
        "print(df.head())"
      ],
      "metadata": {
        "id": "bBBZp5Yxk3oJ"
      },
      "execution_count": null,
      "outputs": []
    },
    {
      "cell_type": "code",
      "source": [
        "import seaborn as sns\n",
        "import matplotlib.pyplot as plt\n",
        "\n",
        "col='MSSubClass'\n",
        "sns.histplot(df[col],kde=True,bins=30)\n",
        "plt.title('Distribution of GrLivArea')\n",
        "plt.show()"
      ],
      "metadata": {
        "id": "McDWwa8PlueK"
      },
      "execution_count": null,
      "outputs": []
    },
    {
      "cell_type": "code",
      "source": [
        "col1 = 'GrLivArea'\n",
        "col2 = 'SalePrice'\n",
        "\n",
        "sns.scatterplot(x=df[col1], y=df[col2])\n",
        "plt.title('GrLivArea vs SalePrice')\n",
        "plt.show()\n",
        "\n"
      ],
      "metadata": {
        "id": "qOw3ackUUPuh"
      },
      "execution_count": null,
      "outputs": []
    },
    {
      "cell_type": "code",
      "source": [
        "cat_col = 'OverallQual'\n",
        "col = 'SalePrice'\n",
        "\n",
        "sns.boxplot(x=df[cat_col], y=df[col])\n",
        "plt.title(\"SalePrice by OverallQual\")\n",
        "plt.xticks(rotation=45)\n",
        "plt.show()"
      ],
      "metadata": {
        "id": "PuDmFIpqsGSw"
      },
      "execution_count": null,
      "outputs": []
    },
    {
      "cell_type": "code",
      "source": [
        "cat_col = 'YearBuilt'\n",
        "col = 'SalePrice'\n",
        "\n",
        "sns.barplot(x=cat_col, y=col, data=df)\n",
        "plt.title(\"Average SalePrice by Year Built\")\n",
        "plt.xticks(rotation=60)\n",
        "plt.show()"
      ],
      "metadata": {
        "id": "HxbQNHHG22ln"
      },
      "execution_count": null,
      "outputs": []
    },
    {
      "cell_type": "code",
      "source": [
        "sns.countplot(data=df, x='MSZoning', order=df['MSZoning'].value_counts().index)\n",
        "plt.title(\"Count of Houses by MSZoning\")\n",
        "plt.xticks(rotation=45)\n",
        "plt.tight_layout()\n",
        "plt.show()"
      ],
      "metadata": {
        "id": "b079prAv4Q1L"
      },
      "execution_count": null,
      "outputs": []
    },
    {
      "cell_type": "code",
      "source": [
        "# Compute correlation matrix for numeric columns only\n",
        "numeric_df = df.select_dtypes(include=np.number)\n",
        "correlation_matrix = numeric_df.corr()\n",
        "\n",
        "plt.figure(figsize=(12, 8))\n",
        "sns.heatmap(correlation_matrix, annot=True, fmt=\".2f\", cmap=\"coolwarm\")\n",
        "plt.title(\"Correlation Heatmap (Numeric Columns Only)\")\n",
        "plt.show()"
      ],
      "metadata": {
        "id": "TRVuPqAK6lVf"
      },
      "execution_count": null,
      "outputs": []
    },
    {
      "cell_type": "code",
      "source": [],
      "metadata": {
        "id": "wZbq11CX-Xff"
      },
      "execution_count": null,
      "outputs": []
    },
    {
      "cell_type": "markdown",
      "source": [],
      "metadata": {
        "id": "TGp1EVUNy4dD"
      }
    },
    {
      "cell_type": "code",
      "source": [
        "# Select numeric columns\n",
        "numeric_df = df.select_dtypes(include=np.number)\n",
        "\n",
        "# Pick first 10 numeric columns (or customize as needed)\n",
        "selected_columns = numeric_df.columns[:10]\n",
        "correlation_matrix = numeric_df[selected_columns].corr()\n",
        "\n",
        "# Plot heatmap\n",
        "plt.figure(figsize=(12, 8))\n",
        "sns.heatmap(correlation_matrix, annot=True, fmt=\".2f\", cmap=\"coolwarm\")\n",
        "plt.title(\"Correlation Heatmap (First 10 Numeric Columns)\")\n",
        "plt.show()"
      ],
      "metadata": {
        "id": "Ht3uMrEWBw8K"
      },
      "execution_count": null,
      "outputs": []
    },
    {
      "cell_type": "code",
      "source": [
        "sns.pairplot(df[['GrLivArea','TotalBsmtSF','SalePrice']])\n",
        "plt.show()"
      ],
      "metadata": {
        "id": "PPUFDoIpCJfH"
      },
      "execution_count": null,
      "outputs": []
    },
    {
      "cell_type": "code",
      "source": [
        "import seaborn as sns\n",
        "import matplotlib.pyplot as plt\n",
        "\n",
        "# Plotting distribution for 3 numeric features\n",
        "plt.figure(figsize=(18, 5))\n",
        "\n",
        "# 1. GrLivArea\n",
        "plt.subplot(1, 3, 1)\n",
        "sns.histplot(data=df, x='GrLivArea', kde=True)\n",
        "plt.title('Distribution of GrLivArea')\n",
        "\n",
        "# 2. TotalBsmtSF\n",
        "plt.subplot(1, 3, 2)\n",
        "sns.histplot(data=df, x='TotalBsmtSF', kde=True)\n",
        "plt.title('Distribution of TotalBsmtSF')\n",
        "\n",
        "# 3. SalePrice\n",
        "plt.subplot(1, 3, 3)\n",
        "sns.histplot(data=df, x='SalePrice', kde=True)\n",
        "plt.title('Distribution of SalePrice')\n",
        "\n",
        "plt.tight_layout()\n",
        "plt.show()"
      ],
      "metadata": {
        "id": "S5ECrTQcEzSl"
      },
      "execution_count": null,
      "outputs": []
    },
    {
      "cell_type": "code",
      "source": [
        "sns.histplot(df['GrLivArea'],kde=True,bins=30)\n",
        "plt.title('distribution of GrLivArea')\n",
        "plt.show()"
      ],
      "metadata": {
        "id": "TJHC6h2CYKPA"
      },
      "execution_count": null,
      "outputs": []
    },
    {
      "cell_type": "code",
      "source": [
        "# Example categorical features\n",
        "categorical_features = ['Neighborhood', 'HouseStyle', 'OverallQual']\n",
        "\n",
        "# Boxplots for each categorical feature vs SalePrice\n",
        "for col in categorical_features:\n",
        "    plt.figure(figsize=(12, 6))\n",
        "    sns.boxplot(data=df, x=col, y='SalePrice')\n",
        "    plt.title(f'SalePrice distribution across {col}')\n",
        "    plt.xticks(rotation=45)\n",
        "    plt.tight_layout()\n",
        "    plt.show()"
      ],
      "metadata": {
        "id": "IGTLbqHgaECy"
      },
      "execution_count": null,
      "outputs": []
    },
    {
      "cell_type": "code",
      "source": [
        "# Example categorical features\n",
        "categorical_features = ['MSZoning', 'RoofStyle']\n",
        "\n",
        "# Countplots for each categorical feature\n",
        "for col in categorical_features:\n",
        "    plt.figure(figsize=(10, 5))\n",
        "    sns.countplot(data=df, x=col)\n",
        "    plt.title(f'Value counts of {col}')\n",
        "    plt.xticks(rotation=45)\n",
        "    plt.tight_layout()\n",
        "    plt.show()"
      ],
      "metadata": {
        "id": "jHLSUJMnhcSh"
      },
      "execution_count": null,
      "outputs": []
    },
    {
      "cell_type": "code",
      "source": [
        "# List of columns to drop\n",
        "drop_columns = [\n",
        "    'Id',              # Not useful for prediction\n",
        "    'PoolQC',          # Too many missing values\n",
        "    'MiscFeature',     # Too sparse\n",
        "    'Alley',           # Too many missing values\n",
        "    'Fence',           # Subjective and sparse\n",
        "    'FireplaceQu'      # Help but not critical\n",
        "]\n",
        "\n",
        "# Drop the columns\n",
        "df = df.drop(columns=drop_columns, errors='ignore')\n",
        "\n",
        "# Print confirmation\n",
        "print(\"Dropped irrelevant columns:\", drop_columns)"
      ],
      "metadata": {
        "id": "ZaCyWqoBhjUb"
      },
      "execution_count": null,
      "outputs": []
    },
    {
      "cell_type": "code",
      "source": [],
      "metadata": {
        "id": "4qKXu_KDrD26"
      },
      "execution_count": null,
      "outputs": []
    },
    {
      "cell_type": "code",
      "source": [
        "from sklearn.impute import SimpleImputer\n",
        "import numpy as np\n",
        "\n",
        "# Identify numeric and categorical columns\n",
        "numeric_cols = df.select_dtypes(include=np.number).columns.tolist()\n",
        "categorical_cols = df.select_dtypes(exclude=np.number).columns.tolist()\n",
        "\n",
        "# Remove SalePrice from numeric_cols (as it's the target variable)\n",
        "if 'SalePrice' in numeric_cols:\n",
        "    numeric_cols.remove('SalePrice')\n",
        "\n",
        "print(\"Numeric columns:\", numeric_cols)\n",
        "print(\"Categorical columns:\", categorical_cols)"
      ],
      "metadata": {
        "id": "55W6RKYNlxmV"
      },
      "execution_count": null,
      "outputs": []
    },
    {
      "cell_type": "code",
      "source": [
        "imputer_num = SimpleImputer(strategy='median')\n",
        "df[numeric_cols] = imputer_num.fit_transform(df[numeric_cols])"
      ],
      "metadata": {
        "id": "_DHX1wolnAWN"
      },
      "execution_count": null,
      "outputs": []
    },
    {
      "cell_type": "code",
      "source": [
        "imputer_cat = SimpleImputer(strategy='most_frequent')\n",
        "df[categorical_cols] = imputer_cat.fit_transform(df[categorical_cols])"
      ],
      "metadata": {
        "id": "TVoV6ZhunFjp"
      },
      "execution_count": null,
      "outputs": []
    },
    {
      "cell_type": "code",
      "source": [
        "print(df.isnull().sum())"
      ],
      "metadata": {
        "id": "gXMut65UnNHb"
      },
      "execution_count": null,
      "outputs": []
    },
    {
      "cell_type": "code",
      "source": [
        "from sklearn.impute import SimpleImputer\n",
        "\n",
        "imputer_num = SimpleImputer(strategy='mean')\n",
        "df[numeric_cols] = imputer_num.fit_transform(df[numeric_cols])"
      ],
      "metadata": {
        "id": "-c_sb5OrnNFE"
      },
      "execution_count": null,
      "outputs": []
    },
    {
      "cell_type": "code",
      "source": [
        "imputer_cat = SimpleImputer(strategy='most_frequent')\n",
        "df[categorical_cols] = imputer_cat.fit_transform(df[categorical_cols])"
      ],
      "metadata": {
        "id": "lZtvtt6kslw-"
      },
      "execution_count": null,
      "outputs": []
    },
    {
      "cell_type": "code",
      "source": [
        "import seaborn as sns\n",
        "import matplotlib.pyplot as plt\n",
        "\n",
        "# Single boxplot for 'SalePrice' (after imputation or outlier removal)\n",
        "sns.boxplot(x=df['SalePrice'])  # Use df_imputed if it's defined\n",
        "\n",
        "plt.title('SalePrice After Outlier Removal')\n",
        "plt.show()\n"
      ],
      "metadata": {
        "id": "6-Eb9o19ozde"
      },
      "execution_count": null,
      "outputs": []
    },
    {
      "cell_type": "code",
      "source": [
        "def remove_outliers_iqr(df, columns, factor=1.5):\n",
        "    for col in columns:\n",
        "        if df[col].dtype in ['int64', 'float64']:\n",
        "            Q1 = df[col].quantile(0.25)\n",
        "            Q3 = df[col].quantile(0.75)\n",
        "            IQR = Q3 - Q1\n",
        "            lower_bound = Q1 - factor * IQR\n",
        "            upper_bound = Q3 + factor * IQR\n",
        "            df = df[(df[col] >= lower_bound) & (df[col] <= upper_bound)]\n",
        "    return df"
      ],
      "metadata": {
        "id": "aHgoiatTtnF4"
      },
      "execution_count": null,
      "outputs": []
    },
    {
      "cell_type": "code",
      "source": [
        "import numpy as np\n",
        "\n",
        "# Select key numeric columns\n",
        "key_numeric_cols = df.select_dtypes(include=np.number).columns.tolist()\n",
        "\n",
        "# Remove outliers using IQR method\n",
        "df_cleaned = remove_outliers_iqr(df, key_numeric_cols)\n",
        "\n",
        "# Print updated shape\n",
        "print(f\"Reduced data size from {df.shape[0]} to {df_cleaned.shape[0]} rows after outlier removal\")"
      ],
      "metadata": {
        "id": "BVwq3smxu6Iu"
      },
      "execution_count": null,
      "outputs": []
    },
    {
      "cell_type": "code",
      "source": [
        "# Get updated list of categorical columns\n",
        "categorical_cols = df.select_dtypes(exclude=[np.number]).columns.tolist()\n",
        "\n",
        "# Apply One-Hot Encoding\n",
        "df_encoded = pd.get_dummies(df, columns=categorical_cols, drop_first=True)\n",
        "\n",
        "# Check shape after encoding\n",
        "print(\"✅ Final shape after encoding:\", df_encoded.shape)"
      ],
      "metadata": {
        "id": "6UZ1dyRYwJG1"
      },
      "execution_count": null,
      "outputs": []
    },
    {
      "cell_type": "code",
      "source": [
        "import pandas as pd\n",
        "import numpy as np\n",
        "import seaborn as sns\n",
        "import matplotlib.pyplot as plt\n",
        "from sklearn.model_selection import train_test_split\n",
        "from sklearn.preprocessing import StandardScaler, OneHotEncoder\n",
        "from sklearn.compose import ColumnTransformer\n",
        "from sklearn.pipeline import Pipeline\n",
        "from sklearn.impute import SimpleImputer\n",
        "from sklearn.ensemble import RandomForestRegressor\n",
        "from sklearn.linear_model import LinearRegression\n",
        "from sklearn.metrics import mean_absolute_error, mean_squared_error, r2_score"
      ],
      "metadata": {
        "id": "ST-TOI1GqFmC"
      },
      "execution_count": null,
      "outputs": []
    },
    {
      "cell_type": "code",
      "source": [
        "import pandas as pd\n",
        "import os\n",
        "\n",
        "def readcsv(filepath, filename):\n",
        "    full_path = os.path.join(filepath, filename)\n",
        "    file = pd.read_csv(full_path)\n",
        "    return file\n",
        "\n",
        "filepath = \"/content/drive/MyDrive/day1 python\"\n",
        "filename = \"train (2).csv\"\n",
        "\n",
        "df = readcsv(filepath, filename)\n",
        "print(df.head(3))"
      ],
      "metadata": {
        "id": "1qiL2c34nJ9c"
      },
      "execution_count": null,
      "outputs": []
    },
    {
      "cell_type": "code",
      "source": [
        "\n"
      ],
      "metadata": {
        "id": "HHvg0BtGhVC6"
      },
      "execution_count": null,
      "outputs": []
    }
  ]
}